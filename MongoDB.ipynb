{
 "cells": [
  {
   "cell_type": "code",
   "execution_count": 132,
   "id": "615c564d",
   "metadata": {},
   "outputs": [],
   "source": [
    "import pymongo\n",
    "import urllib"
   ]
  },
  {
   "cell_type": "code",
   "execution_count": 133,
   "id": "66d937df",
   "metadata": {},
   "outputs": [],
   "source": [
    "client = pymongo.MongoClient(\"localhost\")"
   ]
  },
  {
   "cell_type": "code",
   "execution_count": 134,
   "id": "93ce3aff",
   "metadata": {},
   "outputs": [],
   "source": [
    "db = client['adnan']"
   ]
  },
  {
   "cell_type": "code",
   "execution_count": 135,
   "id": "f4693292",
   "metadata": {
    "scrolled": true
   },
   "outputs": [],
   "source": [
    "# Reading the methods\n",
    "# dir(db)"
   ]
  },
  {
   "cell_type": "code",
   "execution_count": 136,
   "id": "38e6b9d5",
   "metadata": {},
   "outputs": [
    {
     "data": {
      "text/plain": [
       "['blogs']"
      ]
     },
     "execution_count": 136,
     "metadata": {},
     "output_type": "execute_result"
    }
   ],
   "source": [
    "# Listing the collections that our db has\n",
    "db.list_collection_names()"
   ]
  },
  {
   "cell_type": "code",
   "execution_count": 137,
   "id": "ffcbe6eb",
   "metadata": {},
   "outputs": [],
   "source": [
    "collection = db['blogs']"
   ]
  },
  {
   "cell_type": "code",
   "execution_count": 138,
   "id": "302dc2b5",
   "metadata": {},
   "outputs": [],
   "source": [
    "# Methods of collections\n",
    "# dir(collection)"
   ]
  },
  {
   "cell_type": "code",
   "execution_count": 139,
   "id": "10254bd6",
   "metadata": {},
   "outputs": [],
   "source": [
    "# Data\n",
    "data = {\"name\" : \"adnan\",\n",
    "        \"age\"  : 17,\n",
    "        \"marks\" : 35\n",
    "       }\n"
   ]
  },
  {
   "cell_type": "code",
   "execution_count": 140,
   "id": "7eeff843",
   "metadata": {},
   "outputs": [
    {
     "data": {
      "text/plain": [
       "<pymongo.results.InsertOneResult at 0x241aa6e4a90>"
      ]
     },
     "execution_count": 140,
     "metadata": {},
     "output_type": "execute_result"
    }
   ],
   "source": [
    "# Insert one\n",
    "collection.insert_one(data)"
   ]
  },
  {
   "cell_type": "code",
   "execution_count": 141,
   "id": "153193ed",
   "metadata": {},
   "outputs": [],
   "source": [
    "# Multiple records\n",
    "records = [\n",
    "    {\"name\" : \"ali\",\n",
    "     \"age\" : 10,\n",
    "     \"marks\" : 20\n",
    "    },\n",
    "    {\"name\" : \"kanwar\",\n",
    "     \"age\" : 30,\n",
    "     \"marks\" : 40\n",
    "    },\n",
    "    {\"name\" : \"dani\",\n",
    "     \"age\" : 50,\n",
    "     \"marks\" : 60\n",
    "    }\n",
    "]"
   ]
  },
  {
   "cell_type": "code",
   "execution_count": 142,
   "id": "01f04176",
   "metadata": {},
   "outputs": [
    {
     "data": {
      "text/plain": [
       "<pymongo.results.InsertManyResult at 0x241a97ac9d0>"
      ]
     },
     "execution_count": 142,
     "metadata": {},
     "output_type": "execute_result"
    }
   ],
   "source": [
    "# Insert many\n",
    "collection.insert_many(records)"
   ]
  },
  {
   "cell_type": "code",
   "execution_count": 143,
   "id": "1aec9c10",
   "metadata": {},
   "outputs": [
    {
     "data": {
      "text/plain": [
       "<pymongo.results.UpdateResult at 0x241a97adf60>"
      ]
     },
     "execution_count": 143,
     "metadata": {},
     "output_type": "execute_result"
    }
   ],
   "source": [
    "# update one\n",
    "collection.update_one({\"name\" : \"adnan\"},{ \"$set\" : {\"name\" : \"Adnan\"}})"
   ]
  },
  {
   "cell_type": "code",
   "execution_count": 144,
   "id": "aa48849e",
   "metadata": {},
   "outputs": [
    {
     "data": {
      "text/plain": [
       "<pymongo.results.DeleteResult at 0x241a6dfc340>"
      ]
     },
     "execution_count": 144,
     "metadata": {},
     "output_type": "execute_result"
    }
   ],
   "source": [
    "# delete one\n",
    "collection.delete_many({\"name\" : \"Adnan\"})"
   ]
  },
  {
   "cell_type": "code",
   "execution_count": 145,
   "id": "7ebce6bf",
   "metadata": {},
   "outputs": [],
   "source": [
    "# delete many\n",
    "# collection.delete_many({})"
   ]
  },
  {
   "cell_type": "code",
   "execution_count": 146,
   "id": "95458b78",
   "metadata": {},
   "outputs": [
    {
     "name": "stdout",
     "output_type": "stream",
     "text": [
      "{'_id': ObjectId('630bad1af863a1fa1c065ebb'), 'name': 'ali', 'age': 10, 'marks': 20}\n",
      "{'_id': ObjectId('630bad1af863a1fa1c065ebc'), 'name': 'kanwar', 'age': 30, 'marks': 40}\n",
      "{'_id': ObjectId('630bad1af863a1fa1c065ebd'), 'name': 'dani', 'age': 50, 'marks': 60}\n",
      "{'_id': ObjectId('630bad24f863a1fa1c065ec0'), 'name': 'ali', 'age': 10, 'marks': 20}\n",
      "{'_id': ObjectId('630bad24f863a1fa1c065ec1'), 'name': 'kanwar', 'age': 30, 'marks': 40}\n",
      "{'_id': ObjectId('630bad24f863a1fa1c065ec2'), 'name': 'dani', 'age': 50, 'marks': 60}\n"
     ]
    }
   ],
   "source": [
    "# printing the collections data\n",
    "for i in collection.find():\n",
    "    print(i)"
   ]
  }
 ],
 "metadata": {
  "kernelspec": {
   "display_name": "Python 3 (ipykernel)",
   "language": "python",
   "name": "python3"
  },
  "language_info": {
   "codemirror_mode": {
    "name": "ipython",
    "version": 3
   },
   "file_extension": ".py",
   "mimetype": "text/x-python",
   "name": "python",
   "nbconvert_exporter": "python",
   "pygments_lexer": "ipython3",
   "version": "3.10.4"
  }
 },
 "nbformat": 4,
 "nbformat_minor": 5
}
